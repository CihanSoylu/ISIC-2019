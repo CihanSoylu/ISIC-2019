{
 "cells": [
  {
   "cell_type": "code",
   "execution_count": 1,
   "metadata": {},
   "outputs": [],
   "source": [
    "import tensorflow as tf\n",
    "import numpy as np\n",
    "import pandas as pd\n",
    "\n",
    "import create_test_dataset\n",
    "import create_model\n",
    "import create_datasets\n",
    "import accuracy"
   ]
  },
  {
   "cell_type": "markdown",
   "metadata": {},
   "source": [
    "Define hyperparameters for the model to be used for submission and the directory for the saved model. "
   ]
  },
  {
   "cell_type": "code",
   "execution_count": 12,
   "metadata": {},
   "outputs": [],
   "source": [
    "unit_sizes = [2048, 1024]\n",
    "reg = 1e-15\n",
    "batch_size = 128\n",
    "base_model = 'densenet201'\n",
    "regularization = tf.keras.regularizers.l2(l=reg)\n",
    "\n",
    "model_dir = 'logs4/'+ base_model + '-batch-{}'.format(batch_size) + '-regularization-{}'.format(reg) + '-unitsize-2048-1024'"
   ]
  },
  {
   "cell_type": "markdown",
   "metadata": {},
   "source": [
    "Create the model and load the trained weights. The model is trained by `hyperparameter_tuning.py`."
   ]
  },
  {
   "cell_type": "code",
   "execution_count": 10,
   "metadata": {},
   "outputs": [
    {
     "data": {
      "text/plain": [
       "<tensorflow.python.training.tracking.util.CheckpointLoadStatus at 0x144ccd9d0>"
      ]
     },
     "execution_count": 10,
     "metadata": {},
     "output_type": "execute_result"
    }
   ],
   "source": [
    "model = create_model.get_model(regularization, unit_sizes)\n",
    "model.load_weights(model_dir + '/cp.ckpt')"
   ]
  },
  {
   "cell_type": "markdown",
   "metadata": {},
   "source": [
    "Create the `tf.data` datasets from the train/validation/test tfrecords. These records are created by `create_tfrecords.py` and `test_tfrecords.py`."
   ]
  },
  {
   "cell_type": "code",
   "execution_count": 13,
   "metadata": {},
   "outputs": [],
   "source": [
    "record_dir = 'data/tfrecords/test/'\n",
    "\n",
    "test_dataset = create_test_dataset.create_dataset(record_dir, base_model)\n",
    "train_dataset, valid_dataset = create_datasets.create_dataset('data/tfrecords/densenet201-valid-2000/', batch_size = 1) "
   ]
  },
  {
   "cell_type": "code",
   "execution_count": 7,
   "metadata": {},
   "outputs": [
    {
     "name": "stdout",
     "output_type": "stream",
     "text": [
      "\n",
      "Test accuracy: 77.65%\n",
      "[[250  54  15   7  24   1   2   4]\n",
      " [ 99 819  26   3  56   5   6   3]\n",
      " [  3   7 215  14  10   4   1   8]\n",
      " [  5   1   5  48   7   0   0   2]\n",
      " [ 11  12  12   4 162   1   1   4]\n",
      " [  1   2   1   0   1  14   0   0]\n",
      " [  0   1   1   0   0   1  17   0]\n",
      " [  1   1  13   3   3   1   0  28]]\n",
      "              precision    recall  f1-score   support\n",
      "\n",
      "           0       0.68      0.70      0.69       357\n",
      "           1       0.91      0.81      0.86      1017\n",
      "           2       0.75      0.82      0.78       262\n",
      "           3       0.61      0.71      0.65        68\n",
      "           4       0.62      0.78      0.69       207\n",
      "           5       0.52      0.74      0.61        19\n",
      "           6       0.63      0.85      0.72        20\n",
      "           7       0.57      0.56      0.57        50\n",
      "\n",
      "    accuracy                           0.78      2000\n",
      "   macro avg       0.66      0.75      0.70      2000\n",
      "weighted avg       0.79      0.78      0.78      2000\n",
      "\n",
      "\n",
      "Balanced accuracy: 0.745\n"
     ]
    }
   ],
   "source": [
    "accuracy.test_accuracy(model, valid_dataset)"
   ]
  },
  {
   "cell_type": "markdown",
   "metadata": {},
   "source": [
    "The next code cell creates a dataframe, `val_df`, containing the predictions of the model on the validation dataset. We also get the true labels in a list: `labels`."
   ]
  },
  {
   "cell_type": "code",
   "execution_count": 21,
   "metadata": {},
   "outputs": [],
   "source": [
    "columns = ['MEL', 'NV', 'BCC', 'AK', 'BKL', 'DF', 'VASC', 'SCC']\n",
    "val_df = pd.DataFrame(columns = columns)\n",
    "\n",
    "labels = []\n",
    "\n",
    "for idx, (features, label) in enumerate(valid_dataset):\n",
    "    pred = model.predict(tf.reshape(features, (1,-1)))\n",
    "    labels = labels + [label.numpy()]\n",
    "    val_df.loc[idx] = list(pred.reshape(-1))"
   ]
  },
  {
   "cell_type": "markdown",
   "metadata": {},
   "source": [
    "Let's take a look at the first 5 predictions. The true labels for the first five images are given as `[1,1,1,4,0]`. The model predictions shows that the indices corresponding to the highest probability class are 1,1,1,4 and 0. So the model predicts the first 5 images correctly. "
   ]
  },
  {
   "cell_type": "code",
   "execution_count": 25,
   "metadata": {},
   "outputs": [
    {
     "data": {
      "text/plain": [
       "[1, 1, 1, 4, 0]"
      ]
     },
     "execution_count": 25,
     "metadata": {},
     "output_type": "execute_result"
    }
   ],
   "source": [
    "labels[:5]"
   ]
  },
  {
   "cell_type": "code",
   "execution_count": 24,
   "metadata": {},
   "outputs": [
    {
     "data": {
      "text/html": [
       "<div>\n",
       "<style scoped>\n",
       "    .dataframe tbody tr th:only-of-type {\n",
       "        vertical-align: middle;\n",
       "    }\n",
       "\n",
       "    .dataframe tbody tr th {\n",
       "        vertical-align: top;\n",
       "    }\n",
       "\n",
       "    .dataframe thead th {\n",
       "        text-align: right;\n",
       "    }\n",
       "</style>\n",
       "<table border=\"1\" class=\"dataframe\">\n",
       "  <thead>\n",
       "    <tr style=\"text-align: right;\">\n",
       "      <th></th>\n",
       "      <th>MEL</th>\n",
       "      <th>NV</th>\n",
       "      <th>BCC</th>\n",
       "      <th>AK</th>\n",
       "      <th>BKL</th>\n",
       "      <th>DF</th>\n",
       "      <th>VASC</th>\n",
       "      <th>SCC</th>\n",
       "    </tr>\n",
       "  </thead>\n",
       "  <tbody>\n",
       "    <tr>\n",
       "      <th>0</th>\n",
       "      <td>0.078269</td>\n",
       "      <td>0.821563</td>\n",
       "      <td>2.064102e-04</td>\n",
       "      <td>6.097851e-05</td>\n",
       "      <td>0.097452</td>\n",
       "      <td>3.523193e-05</td>\n",
       "      <td>4.467446e-06</td>\n",
       "      <td>2.409718e-03</td>\n",
       "    </tr>\n",
       "    <tr>\n",
       "      <th>1</th>\n",
       "      <td>0.000943</td>\n",
       "      <td>0.996884</td>\n",
       "      <td>1.799427e-05</td>\n",
       "      <td>4.749096e-08</td>\n",
       "      <td>0.002153</td>\n",
       "      <td>6.655838e-07</td>\n",
       "      <td>1.204819e-06</td>\n",
       "      <td>4.341561e-09</td>\n",
       "    </tr>\n",
       "    <tr>\n",
       "      <th>2</th>\n",
       "      <td>0.178645</td>\n",
       "      <td>0.712248</td>\n",
       "      <td>1.553758e-03</td>\n",
       "      <td>4.758224e-07</td>\n",
       "      <td>0.107552</td>\n",
       "      <td>1.209348e-07</td>\n",
       "      <td>4.924299e-09</td>\n",
       "      <td>1.021091e-06</td>\n",
       "    </tr>\n",
       "    <tr>\n",
       "      <th>3</th>\n",
       "      <td>0.370577</td>\n",
       "      <td>0.076942</td>\n",
       "      <td>3.073253e-10</td>\n",
       "      <td>1.906462e-10</td>\n",
       "      <td>0.552481</td>\n",
       "      <td>5.340592e-12</td>\n",
       "      <td>1.525878e-14</td>\n",
       "      <td>9.232036e-14</td>\n",
       "    </tr>\n",
       "    <tr>\n",
       "      <th>4</th>\n",
       "      <td>0.644929</td>\n",
       "      <td>0.032506</td>\n",
       "      <td>2.660513e-01</td>\n",
       "      <td>8.504489e-03</td>\n",
       "      <td>0.045172</td>\n",
       "      <td>4.757296e-05</td>\n",
       "      <td>8.666333e-06</td>\n",
       "      <td>2.781038e-03</td>\n",
       "    </tr>\n",
       "  </tbody>\n",
       "</table>\n",
       "</div>"
      ],
      "text/plain": [
       "        MEL        NV           BCC            AK       BKL            DF  \\\n",
       "0  0.078269  0.821563  2.064102e-04  6.097851e-05  0.097452  3.523193e-05   \n",
       "1  0.000943  0.996884  1.799427e-05  4.749096e-08  0.002153  6.655838e-07   \n",
       "2  0.178645  0.712248  1.553758e-03  4.758224e-07  0.107552  1.209348e-07   \n",
       "3  0.370577  0.076942  3.073253e-10  1.906462e-10  0.552481  5.340592e-12   \n",
       "4  0.644929  0.032506  2.660513e-01  8.504489e-03  0.045172  4.757296e-05   \n",
       "\n",
       "           VASC           SCC  \n",
       "0  4.467446e-06  2.409718e-03  \n",
       "1  1.204819e-06  4.341561e-09  \n",
       "2  4.924299e-09  1.021091e-06  \n",
       "3  1.525878e-14  9.232036e-14  \n",
       "4  8.666333e-06  2.781038e-03  "
      ]
     },
     "execution_count": 24,
     "metadata": {},
     "output_type": "execute_result"
    }
   ],
   "source": [
    "val_df.head()"
   ]
  },
  {
   "cell_type": "markdown",
   "metadata": {},
   "source": [
    "The submissions required to contain the binary classification scores as floating point values in the interval `[0,1]` and any class with a value above the binary classification threshold 0.5 is predicted as positive. The classs corresponding to the greatest value of any row is the overall prediction of the model. The following function applies a sigmoid conversion to the softmax scores predicted by the model and returns the binary classification scores. \n",
    "The sigmoid conversion is defined by the following function\n",
    "$$\n",
    "\\frac{1}{1+e^{-a(x-b)}}\n",
    "$$\n",
    "where a is the inverse measured standard deviation, and b is the binary threshold. "
   ]
  },
  {
   "cell_type": "code",
   "execution_count": 51,
   "metadata": {},
   "outputs": [
    {
     "data": {
      "text/plain": [
       "0.2842671171013"
      ]
     },
     "execution_count": 51,
     "metadata": {},
     "output_type": "execute_result"
    }
   ],
   "source": [
    "np.std(val_df.values.reshape(-1))"
   ]
  },
  {
   "cell_type": "code",
   "execution_count": 52,
   "metadata": {},
   "outputs": [],
   "source": [
    "def convert_to_binary(x):\n",
    "    a = 1/0.28426711\n",
    "    b = 0.15\n",
    "    return 1 / (1 + np.exp(-(a*(x - b))))"
   ]
  },
  {
   "cell_type": "markdown",
   "metadata": {},
   "source": [
    "Apply this function to each row of the `val_df` which holds the softmax scores and get the binary classification scores. "
   ]
  },
  {
   "cell_type": "code",
   "execution_count": 46,
   "metadata": {},
   "outputs": [
    {
     "data": {
      "text/plain": [
       "array([[0.43724837, 0.91391759, 0.37122932, 0.37110991, 0.45391726,\n",
       "        0.37108878, 0.37106352, 0.37304031],\n",
       "       [0.37183402, 0.95162484, 0.37107462, 0.37105989, 0.37282932,\n",
       "        0.3710604 , 0.37106084, 0.37105986],\n",
       "       [0.52517059, 0.87845566, 0.37233634, 0.37106024, 0.46273786,\n",
       "        0.37105995, 0.37105986, 0.37106069],\n",
       "       [0.68480616, 0.43610051, 0.37105985, 0.37105985, 0.80468781,\n",
       "        0.37105985, 0.37105985, 0.37105985],\n",
       "       [0.85082279, 0.39811576, 0.60066755, 0.37806828, 0.40883949,\n",
       "        0.37109891, 0.37106697, 0.37334586]])"
      ]
     },
     "execution_count": 46,
     "metadata": {},
     "output_type": "execute_result"
    }
   ],
   "source": [
    "predictions = val_df[columns].applymap(convert_to_binary).values\n",
    "\n",
    "predictions[:5]"
   ]
  },
  {
   "cell_type": "code",
   "execution_count": 48,
   "metadata": {},
   "outputs": [],
   "source": [
    "val_predictions = []\n",
    "for idx, row in enumerate(predictions):\n",
    "    #Check if the true label is classified as positive. If true, add the label to the validation predictions. \n",
    "    if row[labels[idx]] > 0.5:\n",
    "        val_predictions = val_predictions + [labels[idx]]\n",
    "    else:\n",
    "        val_predictions = val_predictions + [np.argmax(row)]\n",
    "val_predictions = np.array(val_predictions)"
   ]
  },
  {
   "cell_type": "markdown",
   "metadata": {},
   "source": [
    "With these new predictions the (balanced) accuracy increases since we now allow the classes to be classified as positive even though it does not have the highest probability prediction. "
   ]
  },
  {
   "cell_type": "code",
   "execution_count": 50,
   "metadata": {},
   "outputs": [
    {
     "name": "stdout",
     "output_type": "stream",
     "text": [
      "\n",
      "Test accuracy: 89.15%\n",
      "[[303  24   8   5  13   1   1   2]\n",
      " [ 25 944  10   3  27   1   4   3]\n",
      " [  2   3 238   6   4   3   0   6]\n",
      " [  5   1   2  53   5   0   0   2]\n",
      " [  4   8   9   3 179   0   1   3]\n",
      " [  1   2   0   0   1  15   0   0]\n",
      " [  0   1   1   0   0   0  18   0]\n",
      " [  1   1   9   3   2   1   0  33]]\n",
      "              precision    recall  f1-score   support\n",
      "\n",
      "           0       0.89      0.85      0.87       357\n",
      "           1       0.96      0.93      0.94      1017\n",
      "           2       0.86      0.91      0.88       262\n",
      "           3       0.73      0.78      0.75        68\n",
      "           4       0.77      0.86      0.82       207\n",
      "           5       0.71      0.79      0.75        19\n",
      "           6       0.75      0.90      0.82        20\n",
      "           7       0.67      0.66      0.67        50\n",
      "\n",
      "    accuracy                           0.89      2000\n",
      "   macro avg       0.79      0.83      0.81      2000\n",
      "weighted avg       0.90      0.89      0.89      2000\n",
      "\n",
      "\n",
      "Balanced accuracy: 0.835\n"
     ]
    }
   ],
   "source": [
    "from sklearn.metrics import confusion_matrix, classification_report, balanced_accuracy_score\n",
    "\n",
    "test_accuracy = 100*np.sum(val_predictions == labels)/len(val_predictions)\n",
    "print('\\nTest accuracy: %.2f%%' % test_accuracy)\n",
    "\n",
    "print(confusion_matrix(labels, val_predictions))\n",
    "print(classification_report(labels, val_predictions))\n",
    "balanced_accuracy = balanced_accuracy_score(labels, val_predictions)\n",
    "print('\\nBalanced accuracy: {:.3f}'.format(balanced_accuracy) )"
   ]
  },
  {
   "cell_type": "markdown",
   "metadata": {},
   "source": [
    "Test dataset contains classes that are not included in the training set. Hence the model should be able to detect any unknown classes in addition to the classes that it trained on. The basic approach for this is to interpret the prediction of the model as `unknown` if the highest probability predicted by the model is less than a certain threshold. The function below takes a single prediction as returned by the model and applies the threshold.  "
   ]
  },
  {
   "cell_type": "code",
   "execution_count": 53,
   "metadata": {},
   "outputs": [],
   "source": [
    "def is_unknown(pred, th):\n",
    "    if pred.max() < th:\n",
    "        #Unknown class\n",
    "        return list(np.zeros(len(pred.reshape(-1)))) + [1.]\n",
    "    else:\n",
    "        return list(pred.reshape(-1)) + [0.]"
   ]
  },
  {
   "cell_type": "markdown",
   "metadata": {},
   "source": [
    "The following code cell creates a dataframe consisting of the predictions on the test dataset. Each row contains the 'image id' and the model predictions for the image including the unknown class. "
   ]
  },
  {
   "cell_type": "code",
   "execution_count": 61,
   "metadata": {},
   "outputs": [],
   "source": [
    "df = pd.DataFrame(columns = ['image', 'MEL', 'NV', 'BCC', 'AK', 'BKL', 'DF', 'VASC', 'SCC', 'UNK'])\n",
    "\n",
    "th = 0.35\n",
    "\n",
    "for idx, (features, img_id) in enumerate(test_dataset):\n",
    "    pred = model.predict(tf.reshape(features, (1,-1)))\n",
    "    df.loc[idx] = [img_id.numpy().decode(\"utf-8\")] + is_unknown(pred, th)"
   ]
  },
  {
   "cell_type": "code",
   "execution_count": 62,
   "metadata": {},
   "outputs": [
    {
     "data": {
      "text/html": [
       "<div>\n",
       "<style scoped>\n",
       "    .dataframe tbody tr th:only-of-type {\n",
       "        vertical-align: middle;\n",
       "    }\n",
       "\n",
       "    .dataframe tbody tr th {\n",
       "        vertical-align: top;\n",
       "    }\n",
       "\n",
       "    .dataframe thead th {\n",
       "        text-align: right;\n",
       "    }\n",
       "</style>\n",
       "<table border=\"1\" class=\"dataframe\">\n",
       "  <thead>\n",
       "    <tr style=\"text-align: right;\">\n",
       "      <th></th>\n",
       "      <th>image</th>\n",
       "      <th>MEL</th>\n",
       "      <th>NV</th>\n",
       "      <th>BCC</th>\n",
       "      <th>AK</th>\n",
       "      <th>BKL</th>\n",
       "      <th>DF</th>\n",
       "      <th>VASC</th>\n",
       "      <th>SCC</th>\n",
       "      <th>UNK</th>\n",
       "    </tr>\n",
       "  </thead>\n",
       "  <tbody>\n",
       "    <tr>\n",
       "      <th>0</th>\n",
       "      <td>ISIC_0058528</td>\n",
       "      <td>0.992823</td>\n",
       "      <td>0.006722</td>\n",
       "      <td>5.542355e-09</td>\n",
       "      <td>4.132913e-07</td>\n",
       "      <td>0.000455</td>\n",
       "      <td>9.449431e-09</td>\n",
       "      <td>1.192686e-11</td>\n",
       "      <td>5.469223e-13</td>\n",
       "      <td>0.0</td>\n",
       "    </tr>\n",
       "    <tr>\n",
       "      <th>1</th>\n",
       "      <td>ISIC_0056505</td>\n",
       "      <td>0.010768</td>\n",
       "      <td>0.002170</td>\n",
       "      <td>6.630822e-01</td>\n",
       "      <td>3.161300e-03</td>\n",
       "      <td>0.001397</td>\n",
       "      <td>4.158059e-03</td>\n",
       "      <td>6.404098e-06</td>\n",
       "      <td>3.152575e-01</td>\n",
       "      <td>0.0</td>\n",
       "    </tr>\n",
       "    <tr>\n",
       "      <th>2</th>\n",
       "      <td>ISIC_0067900</td>\n",
       "      <td>0.018964</td>\n",
       "      <td>0.012862</td>\n",
       "      <td>9.632377e-02</td>\n",
       "      <td>7.227323e-02</td>\n",
       "      <td>0.799259</td>\n",
       "      <td>3.073578e-05</td>\n",
       "      <td>1.165813e-05</td>\n",
       "      <td>2.760254e-04</td>\n",
       "      <td>0.0</td>\n",
       "    </tr>\n",
       "    <tr>\n",
       "      <th>3</th>\n",
       "      <td>ISIC_0035920</td>\n",
       "      <td>0.228007</td>\n",
       "      <td>0.601490</td>\n",
       "      <td>6.234879e-05</td>\n",
       "      <td>3.092606e-07</td>\n",
       "      <td>0.170440</td>\n",
       "      <td>5.690288e-09</td>\n",
       "      <td>1.248311e-08</td>\n",
       "      <td>1.311737e-08</td>\n",
       "      <td>0.0</td>\n",
       "    </tr>\n",
       "    <tr>\n",
       "      <th>4</th>\n",
       "      <td>ISIC_0065871</td>\n",
       "      <td>0.000000</td>\n",
       "      <td>0.000000</td>\n",
       "      <td>0.000000e+00</td>\n",
       "      <td>0.000000e+00</td>\n",
       "      <td>0.000000</td>\n",
       "      <td>0.000000e+00</td>\n",
       "      <td>0.000000e+00</td>\n",
       "      <td>0.000000e+00</td>\n",
       "      <td>1.0</td>\n",
       "    </tr>\n",
       "  </tbody>\n",
       "</table>\n",
       "</div>"
      ],
      "text/plain": [
       "          image       MEL        NV           BCC            AK       BKL  \\\n",
       "0  ISIC_0058528  0.992823  0.006722  5.542355e-09  4.132913e-07  0.000455   \n",
       "1  ISIC_0056505  0.010768  0.002170  6.630822e-01  3.161300e-03  0.001397   \n",
       "2  ISIC_0067900  0.018964  0.012862  9.632377e-02  7.227323e-02  0.799259   \n",
       "3  ISIC_0035920  0.228007  0.601490  6.234879e-05  3.092606e-07  0.170440   \n",
       "4  ISIC_0065871  0.000000  0.000000  0.000000e+00  0.000000e+00  0.000000   \n",
       "\n",
       "             DF          VASC           SCC  UNK  \n",
       "0  9.449431e-09  1.192686e-11  5.469223e-13  0.0  \n",
       "1  4.158059e-03  6.404098e-06  3.152575e-01  0.0  \n",
       "2  3.073578e-05  1.165813e-05  2.760254e-04  0.0  \n",
       "3  5.690288e-09  1.248311e-08  1.311737e-08  0.0  \n",
       "4  0.000000e+00  0.000000e+00  0.000000e+00  1.0  "
      ]
     },
     "execution_count": 62,
     "metadata": {},
     "output_type": "execute_result"
    }
   ],
   "source": [
    "df.head()"
   ]
  },
  {
   "cell_type": "code",
   "execution_count": 55,
   "metadata": {},
   "outputs": [
    {
     "data": {
      "text/plain": [
       "0.0    8116\n",
       "1.0     122\n",
       "Name: UNK, dtype: int64"
      ]
     },
     "execution_count": 55,
     "metadata": {},
     "output_type": "execute_result"
    }
   ],
   "source": [
    "#The number of predicted `unknown` classes in the test dataset.\n",
    "df['UNK'].value_counts()"
   ]
  },
  {
   "cell_type": "markdown",
   "metadata": {},
   "source": [
    "As we did on the validation dataset, now convert the probability scores into binary classification scores. "
   ]
  },
  {
   "cell_type": "code",
   "execution_count": 63,
   "metadata": {},
   "outputs": [],
   "source": [
    "df[columns + ['UNK']] = df[columns + ['UNK']].applymap(convert_to_binary)"
   ]
  },
  {
   "cell_type": "code",
   "execution_count": 66,
   "metadata": {},
   "outputs": [
    {
     "data": {
      "text/html": [
       "<div>\n",
       "<style scoped>\n",
       "    .dataframe tbody tr th:only-of-type {\n",
       "        vertical-align: middle;\n",
       "    }\n",
       "\n",
       "    .dataframe tbody tr th {\n",
       "        vertical-align: top;\n",
       "    }\n",
       "\n",
       "    .dataframe thead th {\n",
       "        text-align: right;\n",
       "    }\n",
       "</style>\n",
       "<table border=\"1\" class=\"dataframe\">\n",
       "  <thead>\n",
       "    <tr style=\"text-align: right;\">\n",
       "      <th></th>\n",
       "      <th>image</th>\n",
       "      <th>MEL</th>\n",
       "      <th>NV</th>\n",
       "      <th>BCC</th>\n",
       "      <th>AK</th>\n",
       "      <th>BKL</th>\n",
       "      <th>DF</th>\n",
       "      <th>VASC</th>\n",
       "      <th>SCC</th>\n",
       "      <th>UNK</th>\n",
       "    </tr>\n",
       "  </thead>\n",
       "  <tbody>\n",
       "    <tr>\n",
       "      <th>0</th>\n",
       "      <td>ISIC_0058528</td>\n",
       "      <td>0.950963</td>\n",
       "      <td>0.376595</td>\n",
       "      <td>0.371060</td>\n",
       "      <td>0.371060</td>\n",
       "      <td>0.371434</td>\n",
       "      <td>0.371060</td>\n",
       "      <td>0.371060</td>\n",
       "      <td>0.371060</td>\n",
       "      <td>0.371060</td>\n",
       "    </tr>\n",
       "    <tr>\n",
       "      <th>1</th>\n",
       "      <td>ISIC_0056505</td>\n",
       "      <td>0.379942</td>\n",
       "      <td>0.372843</td>\n",
       "      <td>0.858748</td>\n",
       "      <td>0.373659</td>\n",
       "      <td>0.372208</td>\n",
       "      <td>0.374480</td>\n",
       "      <td>0.371065</td>\n",
       "      <td>0.641377</td>\n",
       "      <td>0.371060</td>\n",
       "    </tr>\n",
       "    <tr>\n",
       "      <th>2</th>\n",
       "      <td>ISIC_0067900</td>\n",
       "      <td>0.386758</td>\n",
       "      <td>0.381679</td>\n",
       "      <td>0.452934</td>\n",
       "      <td>0.432066</td>\n",
       "      <td>0.907541</td>\n",
       "      <td>0.371085</td>\n",
       "      <td>0.371069</td>\n",
       "      <td>0.371286</td>\n",
       "      <td>0.371060</td>\n",
       "    </tr>\n",
       "    <tr>\n",
       "      <th>3</th>\n",
       "      <td>ISIC_0035920</td>\n",
       "      <td>0.568176</td>\n",
       "      <td>0.830371</td>\n",
       "      <td>0.371111</td>\n",
       "      <td>0.371060</td>\n",
       "      <td>0.517968</td>\n",
       "      <td>0.371060</td>\n",
       "      <td>0.371060</td>\n",
       "      <td>0.371060</td>\n",
       "      <td>0.371060</td>\n",
       "    </tr>\n",
       "    <tr>\n",
       "      <th>4</th>\n",
       "      <td>ISIC_0065871</td>\n",
       "      <td>0.371060</td>\n",
       "      <td>0.371060</td>\n",
       "      <td>0.371060</td>\n",
       "      <td>0.371060</td>\n",
       "      <td>0.371060</td>\n",
       "      <td>0.371060</td>\n",
       "      <td>0.371060</td>\n",
       "      <td>0.371060</td>\n",
       "      <td>0.952127</td>\n",
       "    </tr>\n",
       "  </tbody>\n",
       "</table>\n",
       "</div>"
      ],
      "text/plain": [
       "          image       MEL        NV       BCC        AK       BKL        DF  \\\n",
       "0  ISIC_0058528  0.950963  0.376595  0.371060  0.371060  0.371434  0.371060   \n",
       "1  ISIC_0056505  0.379942  0.372843  0.858748  0.373659  0.372208  0.374480   \n",
       "2  ISIC_0067900  0.386758  0.381679  0.452934  0.432066  0.907541  0.371085   \n",
       "3  ISIC_0035920  0.568176  0.830371  0.371111  0.371060  0.517968  0.371060   \n",
       "4  ISIC_0065871  0.371060  0.371060  0.371060  0.371060  0.371060  0.371060   \n",
       "\n",
       "       VASC       SCC       UNK  \n",
       "0  0.371060  0.371060  0.371060  \n",
       "1  0.371065  0.641377  0.371060  \n",
       "2  0.371069  0.371286  0.371060  \n",
       "3  0.371060  0.371060  0.371060  \n",
       "4  0.371060  0.371060  0.952127  "
      ]
     },
     "execution_count": 66,
     "metadata": {},
     "output_type": "execute_result"
    }
   ],
   "source": [
    "df.head()"
   ]
  },
  {
   "cell_type": "code",
   "execution_count": 65,
   "metadata": {},
   "outputs": [],
   "source": [
    "df.to_csv('submission.csv', index=False)"
   ]
  },
  {
   "cell_type": "code",
   "execution_count": null,
   "metadata": {},
   "outputs": [],
   "source": []
  }
 ],
 "metadata": {
  "kernelspec": {
   "display_name": "Python [conda env:isic2019] *",
   "language": "python",
   "name": "conda-env-isic2019-py"
  },
  "language_info": {
   "codemirror_mode": {
    "name": "ipython",
    "version": 3
   },
   "file_extension": ".py",
   "mimetype": "text/x-python",
   "name": "python",
   "nbconvert_exporter": "python",
   "pygments_lexer": "ipython3",
   "version": "3.7.6"
  }
 },
 "nbformat": 4,
 "nbformat_minor": 2
}
